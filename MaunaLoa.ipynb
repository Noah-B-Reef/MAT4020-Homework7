{
 "cells": [
  {
   "cell_type": "code",
   "execution_count": 2,
   "metadata": {},
   "outputs": [],
   "source": [
    "import pandas as pd\n",
    "import numpy as np\n",
    "import matplotlib.pyplot as plt"
   ]
  },
  {
   "cell_type": "code",
   "execution_count": 20,
   "metadata": {},
   "outputs": [],
   "source": [
    "%matplotlib inline"
   ]
  },
  {
   "cell_type": "code",
   "execution_count": 3,
   "metadata": {},
   "outputs": [],
   "source": [
    "# import csv file as dataframe\n",
    "df = pd.read_csv(\"/Users/nreef/Desktop/Mauna Loa C02 Data/co2_weekly_mlo.csv\", skiprows=51)"
   ]
  },
  {
   "cell_type": "code",
   "execution_count": 4,
   "metadata": {},
   "outputs": [
    {
     "data": {
      "text/html": [
       "<div>\n",
       "<style scoped>\n",
       "    .dataframe tbody tr th:only-of-type {\n",
       "        vertical-align: middle;\n",
       "    }\n",
       "\n",
       "    .dataframe tbody tr th {\n",
       "        vertical-align: top;\n",
       "    }\n",
       "\n",
       "    .dataframe thead th {\n",
       "        text-align: right;\n",
       "    }\n",
       "</style>\n",
       "<table border=\"1\" class=\"dataframe\">\n",
       "  <thead>\n",
       "    <tr style=\"text-align: right;\">\n",
       "      <th></th>\n",
       "      <th>year</th>\n",
       "      <th>month</th>\n",
       "      <th>day</th>\n",
       "      <th>decimal</th>\n",
       "      <th>average</th>\n",
       "      <th>ndays</th>\n",
       "      <th>1 year ago</th>\n",
       "      <th>10 years ago</th>\n",
       "      <th>increase since 1800</th>\n",
       "    </tr>\n",
       "  </thead>\n",
       "  <tbody>\n",
       "    <tr>\n",
       "      <th>count</th>\n",
       "      <td>2545.000000</td>\n",
       "      <td>2545.000000</td>\n",
       "      <td>2545.000000</td>\n",
       "      <td>2545.000000</td>\n",
       "      <td>2545.000000</td>\n",
       "      <td>2545.000000</td>\n",
       "      <td>2545.000000</td>\n",
       "      <td>2545.000000</td>\n",
       "      <td>2545.000000</td>\n",
       "    </tr>\n",
       "    <tr>\n",
       "      <th>mean</th>\n",
       "      <td>1998.256582</td>\n",
       "      <td>6.532417</td>\n",
       "      <td>15.723772</td>\n",
       "      <td>1998.757471</td>\n",
       "      <td>360.357635</td>\n",
       "      <td>5.891945</td>\n",
       "      <td>331.369965</td>\n",
       "      <td>71.534196</td>\n",
       "      <td>82.350491</td>\n",
       "    </tr>\n",
       "    <tr>\n",
       "      <th>std</th>\n",
       "      <td>14.086428</td>\n",
       "      <td>3.451003</td>\n",
       "      <td>8.800836</td>\n",
       "      <td>14.082811</td>\n",
       "      <td>117.692119</td>\n",
       "      <td>1.360275</td>\n",
       "      <td>225.314006</td>\n",
       "      <td>556.445704</td>\n",
       "      <td>94.909850</td>\n",
       "    </tr>\n",
       "    <tr>\n",
       "      <th>min</th>\n",
       "      <td>1974.000000</td>\n",
       "      <td>1.000000</td>\n",
       "      <td>1.000000</td>\n",
       "      <td>1974.379500</td>\n",
       "      <td>-999.990000</td>\n",
       "      <td>0.000000</td>\n",
       "      <td>-999.990000</td>\n",
       "      <td>-999.990000</td>\n",
       "      <td>-999.990000</td>\n",
       "    </tr>\n",
       "    <tr>\n",
       "      <th>25%</th>\n",
       "      <td>1986.000000</td>\n",
       "      <td>4.000000</td>\n",
       "      <td>8.000000</td>\n",
       "      <td>1986.568500</td>\n",
       "      <td>347.790000</td>\n",
       "      <td>5.000000</td>\n",
       "      <td>346.210000</td>\n",
       "      <td>332.110000</td>\n",
       "      <td>67.560000</td>\n",
       "    </tr>\n",
       "    <tr>\n",
       "      <th>50%</th>\n",
       "      <td>1998.000000</td>\n",
       "      <td>7.000000</td>\n",
       "      <td>16.000000</td>\n",
       "      <td>1998.757500</td>\n",
       "      <td>366.790000</td>\n",
       "      <td>6.000000</td>\n",
       "      <td>364.830000</td>\n",
       "      <td>351.570000</td>\n",
       "      <td>87.600000</td>\n",
       "    </tr>\n",
       "    <tr>\n",
       "      <th>75%</th>\n",
       "      <td>2010.000000</td>\n",
       "      <td>10.000000</td>\n",
       "      <td>23.000000</td>\n",
       "      <td>2010.946600</td>\n",
       "      <td>390.800000</td>\n",
       "      <td>7.000000</td>\n",
       "      <td>388.850000</td>\n",
       "      <td>370.480000</td>\n",
       "      <td>110.800000</td>\n",
       "    </tr>\n",
       "    <tr>\n",
       "      <th>max</th>\n",
       "      <td>2023.000000</td>\n",
       "      <td>12.000000</td>\n",
       "      <td>31.000000</td>\n",
       "      <td>2023.135600</td>\n",
       "      <td>421.630000</td>\n",
       "      <td>7.000000</td>\n",
       "      <td>419.810000</td>\n",
       "      <td>397.380000</td>\n",
       "      <td>140.160000</td>\n",
       "    </tr>\n",
       "  </tbody>\n",
       "</table>\n",
       "</div>"
      ],
      "text/plain": [
       "              year        month          day      decimal      average  \\\n",
       "count  2545.000000  2545.000000  2545.000000  2545.000000  2545.000000   \n",
       "mean   1998.256582     6.532417    15.723772  1998.757471   360.357635   \n",
       "std      14.086428     3.451003     8.800836    14.082811   117.692119   \n",
       "min    1974.000000     1.000000     1.000000  1974.379500  -999.990000   \n",
       "25%    1986.000000     4.000000     8.000000  1986.568500   347.790000   \n",
       "50%    1998.000000     7.000000    16.000000  1998.757500   366.790000   \n",
       "75%    2010.000000    10.000000    23.000000  2010.946600   390.800000   \n",
       "max    2023.000000    12.000000    31.000000  2023.135600   421.630000   \n",
       "\n",
       "             ndays   1 year ago  10 years ago  increase since 1800  \n",
       "count  2545.000000  2545.000000   2545.000000          2545.000000  \n",
       "mean      5.891945   331.369965     71.534196            82.350491  \n",
       "std       1.360275   225.314006    556.445704            94.909850  \n",
       "min       0.000000  -999.990000   -999.990000          -999.990000  \n",
       "25%       5.000000   346.210000    332.110000            67.560000  \n",
       "50%       6.000000   364.830000    351.570000            87.600000  \n",
       "75%       7.000000   388.850000    370.480000           110.800000  \n",
       "max       7.000000   419.810000    397.380000           140.160000  "
      ]
     },
     "execution_count": 4,
     "metadata": {},
     "output_type": "execute_result"
    }
   ],
   "source": [
    "df.describe()\n"
   ]
  },
  {
   "cell_type": "code",
   "execution_count": 5,
   "metadata": {},
   "outputs": [],
   "source": [
    "# filter/clean code\n",
    "t = df['decimal']\n",
    "y = df['average']\n",
    "\n",
    "mask = y>0\n",
    "\n",
    "t = t[mask]\n",
    "y = y[mask]"
   ]
  },
  {
   "cell_type": "code",
   "execution_count": null,
   "metadata": {},
   "outputs": [],
   "source": []
  },
  {
   "cell_type": "code",
   "execution_count": 23,
   "metadata": {},
   "outputs": [
    {
     "data": {
      "text/plain": [
       "[<matplotlib.lines.Line2D at 0x11ffa1ca0>]"
      ]
     },
     "execution_count": 23,
     "metadata": {},
     "output_type": "execute_result"
    },
    {
     "data": {
      "image/png": "[encoded data removed]",
      "text/plain": [
       "<Figure size 640x480 with 1 Axes>"
      ]
     },
     "metadata": {},
     "output_type": "display_data"
    }
   ],
   "source": [
    "fig, ax = plt.subplots()\n",
    "ax.plot(t,y)"
   ]
  },
  {
   "cell_type": "code",
   "execution_count": 7,
   "metadata": {},
   "outputs": [],
   "source": [
    "# for pandas dataframes, \n",
    "# while the variables **appear**\n",
    "# as columns, internally they are rows.\n",
    "# so, we need to build up the matrix in \n",
    "# rows, (vstack=\"vertical stack\") then \n",
    "# take its transpose.\n",
    "A = np.vstack([\n",
    "    np.ones(t.shape), \n",
    "    t,\n",
    "    t**2,\n",
    "    np.sin(t*(2*np.pi)),\n",
    "    np.cos(t*(2*np.pi)),\n",
    "    1/(1+t**2)\n",
    "    ])\n"
   ]
  },
  {
   "cell_type": "code",
   "execution_count": 8,
   "metadata": {},
   "outputs": [],
   "source": [
    "# transpose\n",
    "A = A.T"
   ]
  },
  {
   "cell_type": "code",
   "execution_count": 9,
   "metadata": {},
   "outputs": [],
   "source": [
    "# least squares regression for best fit\n",
    "solver_output = np.linalg.lstsq(A, y, rcond=None)\n",
    "a = solver_output[0]"
   ]
  },
  {
   "cell_type": "code",
   "execution_count": 41,
   "metadata": {},
   "outputs": [
    {
     "data": {
      "text/plain": [
       "(350.0, 375.0)"
      ]
     },
     "execution_count": 41,
     "metadata": {},
     "output_type": "execute_result"
    },
    {
     "data": {
      "image/png": "[encoded data removed]",
      "text/plain": [
       "<Figure size 640x480 with 1 Axes>"
      ]
     },
     "metadata": {},
     "output_type": "display_data"
    }
   ],
   "source": [
    "# plot the best fit model prediction\n",
    "plt.xlabel(\"Time (calendar years)\")\n",
    "plt.ylabel(\"CO2 (ppm)\")\n",
    "plt.plot(t, np.dot(A, a))\n",
    "plt.plot(t,y)\n",
    "plt.xlim(2000,2002)\n",
    "plt.ylim(350,375)\n",
    "#fig.savefig('demo.png', bbox_inches='tight')"
   ]
  },
  {
   "cell_type": "code",
   "execution_count": null,
   "metadata": {},
   "outputs": [],
   "source": []
  },
  {
   "cell_type": "code",
   "execution_count": null,
   "metadata": {},
   "outputs": [],
   "source": []
  },
  {
   "cell_type": "code",
   "execution_count": null,
   "metadata": {},
   "outputs": [],
   "source": []
  },
  {
   "cell_type": "code",
   "execution_count": null,
   "metadata": {},
   "outputs": [],
   "source": []
  },
  {
   "cell_type": "code",
   "execution_count": null,
   "metadata": {},
   "outputs": [],
   "source": []
  },
  {
   "cell_type": "code",
   "execution_count": null,
   "metadata": {},
   "outputs": [],
   "source": []
  },
  {
   "cell_type": "code",
   "execution_count": null,
   "metadata": {},
   "outputs": [],
   "source": []
  },
  {
   "cell_type": "code",
   "execution_count": null,
   "metadata": {},
   "outputs": [],
   "source": []
  },
  {
   "cell_type": "code",
   "execution_count": null,
   "metadata": {},
   "outputs": [],
   "source": []
  },
  {
   "cell_type": "code",
   "execution_count": null,
   "metadata": {},
   "outputs": [],
   "source": []
  },
  {
   "cell_type": "code",
   "execution_count": null,
   "metadata": {},
   "outputs": [],
   "source": []
  },
  {
   "cell_type": "code",
   "execution_count": null,
   "metadata": {},
   "outputs": [],
   "source": []
  },
  {
   "cell_type": "code",
   "execution_count": null,
   "metadata": {},
   "outputs": [],
   "source": []
  },
  {
   "cell_type": "code",
   "execution_count": null,
   "metadata": {},
   "outputs": [],
   "source": []
  },
  {
   "cell_type": "code",
   "execution_count": null,
   "metadata": {},
   "outputs": [],
   "source": []
  },
  {
   "cell_type": "code",
   "execution_count": null,
   "metadata": {},
   "outputs": [],
   "source": []
  },
  {
   "cell_type": "code",
   "execution_count": null,
   "metadata": {},
   "outputs": [],
   "source": []
  }
 ],
 "metadata": {
  "kernelspec": {
   "display_name": "Python 3.9.6 64-bit",
   "language": "python",
   "name": "python3"
  },
  "language_info": {
   "codemirror_mode": {
    "name": "ipython",
    "version": 3
   },
   "file_extension": ".py",
   "mimetype": "text/x-python",
   "name": "python",
   "nbconvert_exporter": "python",
   "pygments_lexer": "ipython3",
   "version": "3.9.6"
  },
  "orig_nbformat": 4,
  "vscode": {
   "interpreter": {
    "hash": "31f2aee4e71d21fbe5cf8b01ff0e069b9275f58929596ceb00d14d90e3e16cd6"
   }
  }
 },
 "nbformat": 4,
 "nbformat_minor": 2
}
